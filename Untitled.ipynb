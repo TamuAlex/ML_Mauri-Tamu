{
 "cells": [
  {
   "cell_type": "code",
   "execution_count": 4,
   "metadata": {},
   "outputs": [],
   "source": [
    "!pip install pymongo"
   ]
  },
  {
   "cell_type": "code",
   "execution_count": 6,
   "metadata": {},
   "outputs": [],
   "source": [
    "import pymongo\n",
    "from pymongo import MongoClient\n",
    "import pandas as pd"
   ]
  },
  {
   "cell_type": "code",
   "execution_count": 13,
   "metadata": {},
   "outputs": [],
   "source": [
    "'''\n",
    "Creamos un cliente de mongo, para ello debemos tener una instancia\n",
    "de mongo iniciada (escribiendo mongod en el terminal)\n",
    "'''\n",
    "client = MongoClient()\n",
    "\n",
    "'''\n",
    "Nos conectamos a la base de datos que el usuario quiera\n",
    "'''\n",
    "db = client['iris']\n",
    "\n",
    "'''\n",
    "Recuperamos la coleccion con la que vamos a trabajar\n",
    "En nuestro caso, la coleccion se llama iris\n",
    "'''\n",
    "iris = db['iris']"
   ]
  },
  {
   "cell_type": "code",
   "execution_count": 14,
   "metadata": {},
   "outputs": [
    {
     "data": {
      "text/plain": [
       "[{'_id': ObjectId('6038eabfac5b5cb7de0d7f92'),\n",
       "  '\"sepal.length\"': 4.9,\n",
       "  '\"sepal.width\"': 3,\n",
       "  '\"petal.length\"': 1.4,\n",
       "  '\"petal.width\"': '.2',\n",
       "  '\"variety\"': 'Setosa'},\n",
       " {'_id': ObjectId('6038eabfac5b5cb7de0d7f93'),\n",
       "  '\"sepal.length\"': 5,\n",
       "  '\"sepal.width\"': 3.4,\n",
       "  '\"petal.length\"': 1.5,\n",
       "  '\"petal.width\"': '.2',\n",
       "  '\"variety\"': 'Setosa'}]"
      ]
     },
     "execution_count": 14,
     "metadata": {},
     "output_type": "execute_result"
    }
   ],
   "source": [
    "iterador = iris.find()\n",
    "\n",
    "entradas_iris = list(iterador)\n",
    "\n"
   ]
  },
  {
   "cell_type": "code",
   "execution_count": null,
   "metadata": {},
   "outputs": [],
   "source": [
    "df = "
   ]
  }
 ],
 "metadata": {
  "kernelspec": {
   "display_name": "Python 3",
   "language": "python",
   "name": "python3"
  },
  "language_info": {
   "codemirror_mode": {
    "name": "ipython",
    "version": 3
   },
   "file_extension": ".py",
   "mimetype": "text/x-python",
   "name": "python",
   "nbconvert_exporter": "python",
   "pygments_lexer": "ipython3",
   "version": "3.8.5"
  }
 },
 "nbformat": 4,
 "nbformat_minor": 4
}
